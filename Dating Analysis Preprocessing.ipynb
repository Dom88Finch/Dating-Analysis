{
 "cells": [
  {
   "cell_type": "code",
   "execution_count": 49,
   "id": "beginning-habitat",
   "metadata": {},
   "outputs": [],
   "source": [
    "import pandas as pd\n",
    "import numpy as np\n",
    "\n",
    "from matplotlib import pyplot as plt\n",
    "import seaborn as sns \n",
    "from sklearn.preprocessing import MinMaxScaler\n",
    "%matplotlib inline\n",
    "import warnings\n",
    "warnings.filterwarnings(\"ignore\")\n",
    "\n",
    "# Load dataframe\n",
    "data = pd.read_csv(\"profiles.csv\")\n",
    "pd.set_option('display.max_columns', None)  \n",
    "pd.set_option('display.max_colwidth', -1)\n"
   ]
  },
  {
   "cell_type": "code",
   "execution_count": 2,
   "id": "ranking-difficulty",
   "metadata": {},
   "outputs": [
    {
     "name": "stdout",
     "output_type": "stream",
     "text": [
      "   age       body_type               diet    drinks  drugs  \\\n",
      "0  22   a little extra  strictly anything  socially  never   \n",
      "\n",
      "                       education  \\\n",
      "0  working on college/university   \n",
      "\n",
      "                                                                                                                                                                                                                                                                                                                                                                                                                                                                                                                                                                                                                                                                                                                                                                                                                                                                                                                                                                                                                                                                                                                                                                                                                                                                                                                                                            essay0  \\\n",
      "0  about me:<br />\\n<br />\\ni would love to think that i was some some kind of intellectual:\\neither the dumbest smart guy, or the smartest dumb guy. can't say i\\ncan tell the difference. i love to talk about ideas and concepts. i\\nforge odd metaphors instead of reciting cliches. like the\\nsimularities between a friend of mine's house and an underwater\\nsalt mine. my favorite word is salt by the way (weird choice i\\nknow). to me most things in life are better as metaphors. i seek to\\nmake myself a little better everyday, in some productively lazy\\nway. got tired of tying my shoes. considered hiring a five year\\nold, but would probably have to tie both of our shoes... decided to\\nonly wear leather shoes dress shoes.<br />\\n<br />\\nabout you:<br />\\n<br />\\nyou love to have really serious, really deep conversations about\\nreally silly stuff. you have to be willing to snap me out of a\\nlight hearted rant with a kiss. you don't have to be funny, but you\\nhave to be able to make me laugh. you should be able to bend spoons\\nwith your mind, and telepathically make me smile while i am still\\nat work. you should love life, and be cool with just letting the\\nwind blow. extra points for reading all this and guessing my\\nfavorite video game (no hints given yet). and lastly you have a\\ngood attention span.   \n",
      "\n",
      "                                                                                                                                                                                                                                                                    essay1  \\\n",
      "0  currently working as an international agent for a freight\\nforwarding company. import, export, domestic you know the\\nworks.<br />\\nonline classes and trying to better myself in my free time. perhaps\\na hours worth of a good book or a video game on a lazy sunday.   \n",
      "\n",
      "                                                                                                                             essay2  \\\n",
      "0  making people laugh.<br />\\nranting about a good salting.<br />\\nfinding simplicity in complexity, and complexity in simplicity.   \n",
      "\n",
      "                                                                                                                          essay3  \\\n",
      "0  the way i look. i am a six foot half asian, half caucasian mutt. it\\nmakes it tough not to notice me, and for me to blend in.   \n",
      "\n",
      "                                                                                                                                                                                                                                                                                                                                                                                                                                                                                        essay4  \\\n",
      "0  books:<br />\\nabsurdistan, the republic, of mice and men (only book that made me\\nwant to cry), catcher in the rye, the prince.<br />\\n<br />\\nmovies:<br />\\ngladiator, operation valkyrie, the producers, down periscope.<br />\\n<br />\\nshows:<br />\\nthe borgia, arrested development, game of thrones, monty\\npython<br />\\n<br />\\nmusic:<br />\\naesop rock, hail mary mallon, george thorogood and the delaware\\ndestroyers, felt<br />\\n<br />\\nfood:<br />\\ni'm down for anything.   \n",
      "\n",
      "                                                   essay5  \\\n",
      "0  food.<br />\\nwater.<br />\\ncell phone.<br />\\nshelter.   \n",
      "\n",
      "                        essay6  \\\n",
      "0  duality and humorous things   \n",
      "\n",
      "                                                                            essay7  \\\n",
      "0  trying to find someone to hang out with. i am down for anything\\nexcept a club.   \n",
      "\n",
      "                                                                     essay8  \\\n",
      "0  i am new to california and looking for someone to wisper my secrets\\nto.   \n",
      "\n",
      "                                                                                                                                                         essay9  \\\n",
      "0  you want to be swept off your feet!<br />\\nyou are tired of the norm.<br />\\nyou want to catch a coffee or a bite.<br />\\nor if you want to talk philosophy.   \n",
      "\n",
      "      ethnicity  height  income             job       last_online  \\\n",
      "0  asian, white  75.0   -1       transportation  2012-06-28-20-30   \n",
      "\n",
      "                          location  \\\n",
      "0  south san francisco, california   \n",
      "\n",
      "                                      offspring orientation  \\\n",
      "0  doesn&rsquo;t have kids, but might want them  straight     \n",
      "\n",
      "                        pets                               religion sex  \\\n",
      "0  likes dogs and likes cats  agnosticism and very serious about it  m    \n",
      "\n",
      "     sign     smokes   speaks  status  \n",
      "0  gemini  sometimes  english  single  \n"
     ]
    }
   ],
   "source": [
    "print(data.head(1))\n"
   ]
  },
  {
   "cell_type": "code",
   "execution_count": 3,
   "id": "accepted-orchestra",
   "metadata": {},
   "outputs": [
    {
     "name": "stdout",
     "output_type": "stream",
     "text": [
      "Index(['age', 'body_type', 'diet', 'drinks', 'drugs', 'education', 'essay0',\n",
      "       'essay1', 'essay2', 'essay3', 'essay4', 'essay5', 'essay6', 'essay7',\n",
      "       'essay8', 'essay9', 'ethnicity', 'height', 'income', 'job',\n",
      "       'last_online', 'location', 'offspring', 'orientation', 'pets',\n",
      "       'religion', 'sex', 'sign', 'smokes', 'speaks', 'status'],\n",
      "      dtype='object')\n"
     ]
    }
   ],
   "source": [
    "print(data.columns)\n"
   ]
  },
  {
   "cell_type": "code",
   "execution_count": 4,
   "id": "minor-spring",
   "metadata": {},
   "outputs": [
    {
     "name": "stdout",
     "output_type": "stream",
     "text": [
      "<class 'pandas.core.frame.DataFrame'>\n",
      "RangeIndex: 59946 entries, 0 to 59945\n",
      "Data columns (total 31 columns):\n",
      " #   Column       Non-Null Count  Dtype  \n",
      "---  ------       --------------  -----  \n",
      " 0   age          59946 non-null  int64  \n",
      " 1   body_type    54650 non-null  object \n",
      " 2   diet         35551 non-null  object \n",
      " 3   drinks       56961 non-null  object \n",
      " 4   drugs        45866 non-null  object \n",
      " 5   education    53318 non-null  object \n",
      " 6   essay0       54458 non-null  object \n",
      " 7   essay1       52374 non-null  object \n",
      " 8   essay2       50308 non-null  object \n",
      " 9   essay3       48470 non-null  object \n",
      " 10  essay4       49409 non-null  object \n",
      " 11  essay5       49096 non-null  object \n",
      " 12  essay6       46175 non-null  object \n",
      " 13  essay7       47495 non-null  object \n",
      " 14  essay8       40721 non-null  object \n",
      " 15  essay9       47343 non-null  object \n",
      " 16  ethnicity    54266 non-null  object \n",
      " 17  height       59943 non-null  float64\n",
      " 18  income       59946 non-null  int64  \n",
      " 19  job          51748 non-null  object \n",
      " 20  last_online  59946 non-null  object \n",
      " 21  location     59946 non-null  object \n",
      " 22  offspring    24385 non-null  object \n",
      " 23  orientation  59946 non-null  object \n",
      " 24  pets         40025 non-null  object \n",
      " 25  religion     39720 non-null  object \n",
      " 26  sex          59946 non-null  object \n",
      " 27  sign         48890 non-null  object \n",
      " 28  smokes       54434 non-null  object \n",
      " 29  speaks       59896 non-null  object \n",
      " 30  status       59946 non-null  object \n",
      "dtypes: float64(1), int64(2), object(28)\n",
      "memory usage: 14.2+ MB\n",
      "None\n"
     ]
    }
   ],
   "source": [
    "print(data.info())\n"
   ]
  },
  {
   "cell_type": "code",
   "execution_count": 5,
   "id": "usual-documentary",
   "metadata": {},
   "outputs": [
    {
     "name": "stdout",
     "output_type": "stream",
     "text": [
      "<class 'pandas.core.frame.DataFrame'>\n",
      "RangeIndex: 59946 entries, 0 to 59945\n",
      "Data columns (total 31 columns):\n",
      " #   Column       Non-Null Count  Dtype  \n",
      "---  ------       --------------  -----  \n",
      " 0   age          59946 non-null  int64  \n",
      " 1   body_type    54650 non-null  object \n",
      " 2   diet         35551 non-null  object \n",
      " 3   drinks       56961 non-null  object \n",
      " 4   drugs        45866 non-null  object \n",
      " 5   education    53318 non-null  object \n",
      " 6   essay0       54458 non-null  object \n",
      " 7   essay1       52374 non-null  object \n",
      " 8   essay2       50308 non-null  object \n",
      " 9   essay3       48470 non-null  object \n",
      " 10  essay4       49409 non-null  object \n",
      " 11  essay5       49096 non-null  object \n",
      " 12  essay6       46175 non-null  object \n",
      " 13  essay7       47495 non-null  object \n",
      " 14  essay8       40721 non-null  object \n",
      " 15  essay9       47343 non-null  object \n",
      " 16  ethnicity    54266 non-null  object \n",
      " 17  height       59943 non-null  float64\n",
      " 18  income       59946 non-null  int64  \n",
      " 19  job          51748 non-null  object \n",
      " 20  last_online  59946 non-null  object \n",
      " 21  location     59946 non-null  object \n",
      " 22  offspring    24385 non-null  object \n",
      " 23  orientation  59946 non-null  object \n",
      " 24  pets         40025 non-null  object \n",
      " 25  religion     39720 non-null  object \n",
      " 26  sex          59946 non-null  object \n",
      " 27  sign         48890 non-null  object \n",
      " 28  smokes       54434 non-null  object \n",
      " 29  speaks       59896 non-null  object \n",
      " 30  status       59946 non-null  object \n",
      "dtypes: float64(1), int64(2), object(28)\n",
      "memory usage: 14.2+ MB\n",
      "None\n"
     ]
    }
   ],
   "source": [
    "print(data.info())\n"
   ]
  },
  {
   "cell_type": "code",
   "execution_count": 6,
   "id": "excellent-shirt",
   "metadata": {},
   "outputs": [
    {
     "name": "stdout",
     "output_type": "stream",
     "text": [
      "essay0         54350\n",
      "essay1         51516\n",
      "essay4         49260\n",
      "essay5         48963\n",
      "essay2         48635\n",
      "essay7         45554\n",
      "essay9         45443\n",
      "essay6         43603\n",
      "essay3         43533\n",
      "essay8         39324\n",
      "last_online    30123\n",
      "speaks         7647 \n",
      "ethnicity      217  \n",
      "location       199  \n",
      "height         60   \n",
      "age            54   \n",
      "sign           48   \n",
      "religion       45   \n",
      "education      32   \n",
      "job            21   \n",
      "diet           18   \n",
      "offspring      15   \n",
      "pets           15   \n",
      "income         13   \n",
      "body_type      12   \n",
      "drinks         6    \n",
      "smokes         5    \n",
      "status         5    \n",
      "orientation    3    \n",
      "drugs          3    \n",
      "sex            2    \n",
      "dtype: int64\n"
     ]
    }
   ],
   "source": [
    "print(data.nunique().sort_values(ascending=False))"
   ]
  },
  {
   "cell_type": "markdown",
   "id": "protected-induction",
   "metadata": {},
   "source": [
    "Right away, we  can clearly see the level of cleaning that is required on our dataset.\n",
    "\n",
    "We will tackle this in several ways:\n",
    "\n",
    "1) Identify all the categorical variables in our dataset and do the approriate mapping.\n",
    "2) Clean up the essay questions and extract data from them.\n"
   ]
  },
  {
   "cell_type": "code",
   "execution_count": 7,
   "id": "promising-elements",
   "metadata": {},
   "outputs": [
    {
     "name": "stdout",
     "output_type": "stream",
     "text": [
      "agnosticism                                   2724\n",
      "other                                         2691\n",
      "agnosticism but not too serious about it      2636\n",
      "agnosticism and laughing about it             2496\n",
      "catholicism but not too serious about it      2318\n",
      "atheism                                       2175\n",
      "other and laughing about it                   2119\n",
      "atheism and laughing about it                 2074\n",
      "christianity                                  1957\n",
      "christianity but not too serious about it     1952\n",
      "other but not too serious about it            1554\n",
      "judaism but not too serious about it          1517\n",
      "atheism but not too serious about it          1318\n",
      "catholicism                                   1064\n",
      "christianity and somewhat serious about it    927 \n",
      "atheism and somewhat serious about it         848 \n",
      "other and somewhat serious about it           846 \n",
      "catholicism and laughing about it             726 \n",
      "judaism and laughing about it                 681 \n",
      "buddhism but not too serious about it         650 \n",
      "agnosticism and somewhat serious about it     642 \n",
      "judaism                                       612 \n",
      "christianity and very serious about it        578 \n",
      "atheism and very serious about it             570 \n",
      "catholicism and somewhat serious about it     548 \n",
      "other and very serious about it               533 \n",
      "buddhism and laughing about it                466 \n",
      "buddhism                                      403 \n",
      "christianity and laughing about it            373 \n",
      "buddhism and somewhat serious about it        359 \n",
      "agnosticism and very serious about it         314 \n",
      "judaism and somewhat serious about it         266 \n",
      "hinduism but not too serious about it         227 \n",
      "hinduism                                      107 \n",
      "catholicism and very serious about it         102 \n",
      "buddhism and very serious about it            70  \n",
      "hinduism and somewhat serious about it        58  \n",
      "islam                                         48  \n",
      "hinduism and laughing about it                44  \n",
      "islam but not too serious about it            40  \n",
      "islam and somewhat serious about it           22  \n",
      "judaism and very serious about it             22  \n",
      "islam and laughing about it                   16  \n",
      "hinduism and very serious about it            14  \n",
      "islam and very serious about it               13  \n",
      "Name: religion, dtype: int64\n"
     ]
    }
   ],
   "source": [
    "print(data.religion.value_counts())"
   ]
  },
  {
   "cell_type": "code",
   "execution_count": null,
   "id": "earned-reward",
   "metadata": {},
   "outputs": [],
   "source": []
  },
  {
   "cell_type": "code",
   "execution_count": null,
   "id": "arctic-light",
   "metadata": {},
   "outputs": [],
   "source": []
  },
  {
   "cell_type": "code",
   "execution_count": null,
   "id": "textile-finding",
   "metadata": {},
   "outputs": [],
   "source": []
  },
  {
   "cell_type": "code",
   "execution_count": null,
   "id": "reasonable-proof",
   "metadata": {},
   "outputs": [],
   "source": []
  },
  {
   "cell_type": "markdown",
   "id": "official-portfolio",
   "metadata": {},
   "source": [
    "#### Data Exploration "
   ]
  },
  {
   "cell_type": "code",
   "execution_count": null,
   "id": "minus-horse",
   "metadata": {},
   "outputs": [],
   "source": []
  },
  {
   "cell_type": "code",
   "execution_count": 8,
   "id": "unlikely-alliance",
   "metadata": {},
   "outputs": [
    {
     "data": {
      "image/png": "[encoded data removed]",
      "text/plain": [
       "<Figure size 360x360 with 1 Axes>"
      ]
     },
     "metadata": {},
     "output_type": "display_data"
    }
   ],
   "source": [
    "# PLot of income vs job \n",
    "sns.set(style=\"ticks\", color_codes=True)\n",
    "\n",
    "sns.catplot(x=\"income\", y=\"job\",kind='swarm',s=5, data=data[:500])\n",
    "plt.show()\n",
    "#print(tips.columns)\n",
    "\n"
   ]
  },
  {
   "cell_type": "code",
   "execution_count": 9,
   "id": "musical-facial",
   "metadata": {},
   "outputs": [
    {
     "name": "stdout",
     "output_type": "stream",
     "text": [
      "m    35829\n",
      "f    24117\n",
      "Name: sex, dtype: int64\n"
     ]
    }
   ],
   "source": [
    "# From here we can see that \n",
    "# we can map `sex`, `drugs`, `orientation` , `status`, `smokes`, `drinks` as they\n",
    "# have the least amount of unique columns and are categorical.\n",
    "\n",
    "print(data.sex.value_counts())\n",
    "label = 'M', 'F'\n"
   ]
  },
  {
   "cell_type": "code",
   "execution_count": 10,
   "id": "directed-auckland",
   "metadata": {},
   "outputs": [
    {
     "data": {
      "image/png": "[encoded data removed]",
      "text/plain": [
       "<Figure size 432x288 with 1 Axes>"
      ]
     },
     "metadata": {},
     "output_type": "display_data"
    }
   ],
   "source": [
    "plt.pie(data.sex.value_counts(), labels = label,autopct='%1.1f%%', shadow=True, startangle=140)\n",
    "plt.axis('equal')\n",
    "plt.show()"
   ]
  },
  {
   "cell_type": "code",
   "execution_count": 11,
   "id": "classified-variety",
   "metadata": {},
   "outputs": [
    {
     "data": {
      "image/png": "[encoded data removed]",
      "text/plain": [
       "<Figure size 432x288 with 1 Axes>"
      ]
     },
     "metadata": {},
     "output_type": "display_data"
    }
   ],
   "source": [
    "plt.hist(data.height, bins =30)\n",
    "plt.xlabel(\"Height\")\n",
    "plt.ylabel(\"Frequency\")\n",
    "plt.title(\"Distribution of Height on OkCupid\")\n",
    "plt.xlim(50,90)\n",
    "plt.show()"
   ]
  },
  {
   "cell_type": "code",
   "execution_count": 12,
   "id": "descending-clark",
   "metadata": {},
   "outputs": [
    {
     "data": {
      "image/png": "[encoded data removed]",
      "text/plain": [
       "<Figure size 432x288 with 1 Axes>"
      ]
     },
     "metadata": {},
     "output_type": "display_data"
    }
   ],
   "source": [
    "plt.hist(data.age,density=True, bins =20)\n",
    "plt.xlabel(\"Age\")\n",
    "plt.ylabel(\"Frequency\")\n",
    "plt.title(\"Distribution of Age on OkCupid\")\n",
    "plt.xlim(16,80)\n",
    "plt.show()\n"
   ]
  },
  {
   "cell_type": "code",
   "execution_count": 13,
   "id": "technological-three",
   "metadata": {},
   "outputs": [
    {
     "name": "stdout",
     "output_type": "stream",
     "text": [
      "count    59946.000000\n",
      "mean     32.340290   \n",
      "std      9.452779    \n",
      "min      18.000000   \n",
      "25%      26.000000   \n",
      "50%      30.000000   \n",
      "75%      37.000000   \n",
      "max      110.000000  \n",
      "Name: age, dtype: float64\n"
     ]
    }
   ],
   "source": [
    "print(data.age.describe())"
   ]
  },
  {
   "cell_type": "code",
   "execution_count": null,
   "id": "bizarre-flash",
   "metadata": {},
   "outputs": [],
   "source": []
  },
  {
   "cell_type": "markdown",
   "id": "accomplished-purchase",
   "metadata": {},
   "source": [
    "Statistical Test for normaility in our dataset"
   ]
  },
  {
   "cell_type": "code",
   "execution_count": 14,
   "id": "rational-harris",
   "metadata": {},
   "outputs": [],
   "source": [
    "# # interpretation of our results\n",
    "## Function to test our hypothesis\n",
    "def testing_hypothesis(p):\n",
    "    alpha = 0.05\n",
    "    if p > alpha:\n",
    "        print('Sample looks Gaussian (fail to reject H0)')\n",
    "    else:\n",
    "        print('Sample does not look Gaussian (reject H0)')\n",
    "\n"
   ]
  },
  {
   "cell_type": "code",
   "execution_count": 15,
   "id": "digital-creation",
   "metadata": {},
   "outputs": [
    {
     "name": "stdout",
     "output_type": "stream",
     "text": [
      "Statistics=0.887, p=0.000\n",
      "Sample does not look Gaussian (reject H0)\n"
     ]
    }
   ],
   "source": [
    "### Testing for normallity \n",
    "from scipy.stats import shapiro\n",
    "stat, p = shapiro(data['age'].sample(n=1000,random_state=1))\n",
    "print('Statistics=%.3f, p=%.3f' % (stat, p))\n",
    "testing_hypothesis(p)\n"
   ]
  },
  {
   "cell_type": "code",
   "execution_count": 16,
   "id": "graphic-utility",
   "metadata": {},
   "outputs": [
    {
     "name": "stdout",
     "output_type": "stream",
     "text": [
      "Statistics=0.968, p=0.000\n",
      "Sample does not look Gaussian (reject H0)\n"
     ]
    }
   ],
   "source": [
    "stat, p = shapiro(data['height'].sample(n=1000,random_state=1))\n",
    "print('Statistics=%.3f, p=%.3f' % (stat, p))\n",
    "testing_hypothesis(p)\n"
   ]
  },
  {
   "cell_type": "code",
   "execution_count": 17,
   "id": "weighted-brighton",
   "metadata": {},
   "outputs": [
    {
     "name": "stdout",
     "output_type": "stream",
     "text": [
      "Statistics=0.208, p=0.000\n",
      "Sample does not look Gaussian (reject H0)\n"
     ]
    }
   ],
   "source": [
    "stat, p = shapiro(data['income'].sample(n=1000,random_state=1))\n",
    "print('Statistics=%.3f, p=%.3f' % (stat, p))\n",
    "testing_hypothesis(p)"
   ]
  },
  {
   "cell_type": "code",
   "execution_count": null,
   "id": "powerful-divorce",
   "metadata": {},
   "outputs": [],
   "source": []
  },
  {
   "cell_type": "code",
   "execution_count": null,
   "id": "connected-exercise",
   "metadata": {},
   "outputs": [],
   "source": []
  },
  {
   "cell_type": "markdown",
   "id": "existing-reserve",
   "metadata": {},
   "source": [
    "### Mapping\n",
    " The dataset upon exploration different categories therefore we need to map some of these categories.\n",
    "\n",
    " The mappings below are easier done by hand as there are a few categories and would also like the mapping to retain meaning with the numbers with a higher  value meaning a higher likelihood.\n",
    " \n",
    " The mappings below of the columns are done so that we ca be able to encode *ranking* importance into our data by converting `string` into `integer`.\n",
    "  "
   ]
  },
  {
   "cell_type": "code",
   "execution_count": 18,
   "id": "turkish-wedding",
   "metadata": {},
   "outputs": [],
   "source": [
    "# Drugs mapping\n",
    "drugs_mapping={'never':0,'sometimes':1, 'often':2}\n",
    "data['drugs_mapped']=data.drugs.replace(drugs_mapping)\n",
    "\n",
    "# Smoking mapping\n",
    "smoke_mapping={'no':0 ,'trying to quit':1,'sometimes': 2,'when drinking':3,'yes':4 }\n",
    "data['smoke_mapped']=data.smokes.replace(smoke_mapping)\n",
    "data['smokes'] = data.smokes.fillna('no')\n",
    "\n",
    "# Drinks mapping\n",
    "drink_mapping = {\"not at all\": 0, \"rarely\": 1, \"socially\": 2, \"often\": 3, \"very often\": 4, \"desperately\": 5}\n",
    "data['drinks_mapped'] = data.drinks.replace(drink_mapping)\n",
    "\n",
    "sex_mapping ={\"m\":0,\"f\":1}\n",
    "data['sex_mapped']=data.sex.replace(sex_mapping)\n",
    "\n"
   ]
  },
  {
   "cell_type": "code",
   "execution_count": 19,
   "id": "demonstrated-weapon",
   "metadata": {},
   "outputs": [],
   "source": [
    "## Function below maps our columns and is useful for columns \n",
    "# with a higher amount of categories which do not matter so \n",
    "# much the order.\n",
    "\n",
    "def column_mapper(i):\n",
    "    a=data[i].unique()\n",
    "    b=list(range(0,len(a)))\n",
    "    c =list(a)\n",
    "    c = [x for x in list(a) if str(x) != 'nan'] # keeps nan values as nan\n",
    "    data[i+'_mapped']=data[i].replace(dict(zip(c,b)))\n",
    "\n"
   ]
  },
  {
   "cell_type": "code",
   "execution_count": 20,
   "id": "optimum-jewel",
   "metadata": {},
   "outputs": [],
   "source": [
    "column_mapper(i='status')\n",
    "column_mapper(i='orientation')\n",
    "column_mapper(i='job')"
   ]
  },
  {
   "cell_type": "code",
   "execution_count": 21,
   "id": "bibliographic-anthony",
   "metadata": {},
   "outputs": [],
   "source": [
    "## The function below calculate the percentage of missing data\n",
    "# from our table.\n",
    "\n",
    "def missing_values_table(df):\n",
    "    # Total missing values \n",
    "    mis_val = df.isnull().sum()\n",
    "\n",
    "    # Percentage of missing values \n",
    "    mis_val_percent = 100 * df.isnull().sum() / len(df)\n",
    "\n",
    "    # Make a table with the results\n",
    "    mis_val_table =pd.concat([mis_val,mis_val_percent], axis=1)\n",
    "\n",
    "    #Rename the columns\n",
    "    mis_val_table_ren_columns = mis_val_table.rename(\n",
    "        columns = { 0: 'Missing Values',1 : '% of Total Values'})\n",
    "\n",
    "    #Sort the table by percentage of the missing descending\n",
    "\n",
    "    mis_val_table_ren_columns = mis_val_table_ren_columns[\n",
    "    mis_val_table_ren_columns.iloc[:,1] !=0].sort_values(\n",
    "        '% of Total Values', ascending=False).round(1)\n",
    "\n",
    "    return mis_val_table_ren_columns"
   ]
  },
  {
   "cell_type": "code",
   "execution_count": null,
   "id": "married-mount",
   "metadata": {},
   "outputs": [],
   "source": []
  },
  {
   "cell_type": "code",
   "execution_count": 22,
   "id": "mature-profession",
   "metadata": {},
   "outputs": [],
   "source": [
    "missing_df = missing_values_table(data);\n",
    "missing_columns = list(missing_df[missing_df['% of Total Values']> 40].index)\n"
   ]
  },
  {
   "cell_type": "code",
   "execution_count": 23,
   "id": "matched-elder",
   "metadata": {},
   "outputs": [
    {
     "name": "stdout",
     "output_type": "stream",
     "text": [
      "               Missing Values  % of Total Values\n",
      "offspring      35561           59.3             \n",
      "diet           24395           40.7             \n",
      "religion       20226           33.7             \n",
      "pets           19921           33.2             \n",
      "essay8         19225           32.1             \n",
      "drugs_mapped   14080           23.5             \n",
      "drugs          14080           23.5             \n",
      "essay6         13771           23.0             \n",
      "essay9         12603           21.0             \n",
      "essay7         12451           20.8             \n",
      "essay3         11476           19.1             \n",
      "sign           11056           18.4             \n",
      "essay5         10850           18.1             \n",
      "essay4         10537           17.6             \n",
      "essay2         9638            16.1             \n",
      "job            8198            13.7             \n",
      "job_mapped     8198            13.7             \n",
      "essay1         7572            12.6             \n",
      "education      6628            11.1             \n",
      "ethnicity      5680            9.5              \n",
      "smoke_mapped   5512            9.2              \n",
      "essay0         5488            9.2              \n",
      "body_type      5296            8.8              \n",
      "drinks         2985            5.0              \n",
      "drinks_mapped  2985            5.0              \n",
      "speaks         50              0.1              \n",
      "height         3               0.0              \n"
     ]
    }
   ],
   "source": [
    "print(missing_df)\n"
   ]
  },
  {
   "cell_type": "markdown",
   "id": "strange-source",
   "metadata": {},
   "source": [
    "From the table below, we can see the percentage of missing values from each column"
   ]
  },
  {
   "cell_type": "markdown",
   "id": "dominican-english",
   "metadata": {},
   "source": [
    "Below, we have a list of all the columns missing more than math{40/%} of their total values.\n",
    "We decide to remove these columns."
   ]
  },
  {
   "cell_type": "code",
   "execution_count": 24,
   "id": "lovely-curtis",
   "metadata": {},
   "outputs": [
    {
     "name": "stdout",
     "output_type": "stream",
     "text": [
      "['offspring', 'diet']\n"
     ]
    }
   ],
   "source": [
    "\n",
    "print(missing_columns)\n",
    "# drop the missing columns from our dataset\n",
    "data = data.drop(columns=missing_columns)"
   ]
  },
  {
   "cell_type": "markdown",
   "id": "indoor-today",
   "metadata": {},
   "source": [
    "#### Handling essays \n",
    "\n",
    "The essays columns in our dataset contain a range of essays."
   ]
  },
  {
   "cell_type": "code",
   "execution_count": 25,
   "id": "embedded-thailand",
   "metadata": {},
   "outputs": [],
   "source": [
    "essay_cols = ['essay0','essay1','essay2','essay3','essay4','essay5','essay6','essay7','essay8','essay9']\n",
    "#Remove  NaN columns\n",
    "all_essays = data[essay_cols].replace(np.nan, '', regex=True)\n",
    "# combine the essays\n",
    "all_essays = all_essays[essay_cols].apply(lambda x: ' '.join(x), axis=1)\n",
    "data['combined_essays'] =all_essays"
   ]
  },
  {
   "cell_type": "code",
   "execution_count": 26,
   "id": "million-valuation",
   "metadata": {},
   "outputs": [
    {
     "name": "stdout",
     "output_type": "stream",
     "text": [
      "(59946, 37)\n"
     ]
    }
   ],
   "source": [
    "print(data.shape)"
   ]
  },
  {
   "cell_type": "code",
   "execution_count": 27,
   "id": "hidden-classification",
   "metadata": {},
   "outputs": [],
   "source": [
    "## Remove rows with (all 8-10 columns missing values)\n",
    "data['no_miss'] = data[essay_cols].isnull().sum(axis=1)\n",
    "\n",
    "data['tot_col'] = data.no_miss.apply(lambda x: 10-x)\n",
    "indx_names = data[data['tot_col'] <= 2].index\n",
    "\n",
    "data.drop(indx_names, inplace=True)"
   ]
  },
  {
   "cell_type": "markdown",
   "id": "parental-picture",
   "metadata": {},
   "source": [
    "Our shape has changed below "
   ]
  },
  {
   "cell_type": "code",
   "execution_count": 28,
   "id": "faced-sudan",
   "metadata": {},
   "outputs": [
    {
     "name": "stdout",
     "output_type": "stream",
     "text": [
      "(55109, 39)\n"
     ]
    }
   ],
   "source": [
    "print(data.shape)"
   ]
  },
  {
   "cell_type": "code",
   "execution_count": 29,
   "id": "tested-color",
   "metadata": {},
   "outputs": [],
   "source": [
    "## Function to remove HTML tags\n",
    "import re\n",
    "TAG_RE = re.compile(r'<[^>]+>')\n",
    "def remove_tags(text):\n",
    "    return TAG_RE.sub('', text)"
   ]
  },
  {
   "cell_type": "code",
   "execution_count": 30,
   "id": "orange-details",
   "metadata": {},
   "outputs": [],
   "source": [
    "## combined_essays_mod below has all the HTML tags and extra spaces and tags removed To provide much cleaner and human friendly text.\n",
    "\n",
    "data['combined_essays_mod'] = data.combined_essays.apply(remove_tags).replace('  ',' ',regex=True).replace('\\n',' ',regex=True)\n",
    "data[\"essay_unique_words\"] = data.combined_essays_mod.apply(lambda x: len(set(x.lower().split())))"
   ]
  },
  {
   "cell_type": "code",
   "execution_count": null,
   "id": "qualified-celtic",
   "metadata": {},
   "outputs": [],
   "source": []
  },
  {
   "cell_type": "code",
   "execution_count": 31,
   "id": "animated-present",
   "metadata": {},
   "outputs": [],
   "source": [
    "## number of languages spoken \n",
    "# calculated by counting the number of languages listed. Note that further information can be obtained by calculating \n",
    "# the percentage of language fluency.\n",
    "data['sum_lang_spoken'] = data.speaks.str.split(',').str.len()\n",
    "\n",
    "# Length of essays\n",
    "data[\"essay_len\"] = data.combined_essays_mod.apply(lambda x: len(x))\n",
    "# this is the default mean essay length we would use if there was no missing values in any of the essays\n",
    "data[\"mean_essay_len\"] = data.essay_len.apply(lambda x: x/10)"
   ]
  },
  {
   "cell_type": "markdown",
   "id": "angry-transaction",
   "metadata": {},
   "source": [
    "This is the modified mean essay length that is used which takes into account that some rows have missing essays.\n",
    "It accounts for this and calculates the local mean for each of the rows.\n"
   ]
  },
  {
   "cell_type": "code",
   "execution_count": 32,
   "id": "consolidated-summit",
   "metadata": {},
   "outputs": [
    {
     "name": "stdout",
     "output_type": "stream",
     "text": [
      "(55109, 45)\n"
     ]
    }
   ],
   "source": [
    "data[\"mod_mean_essay_len\"] = data.essay_len / data.tot_col\n",
    "print(data.shape)"
   ]
  },
  {
   "cell_type": "code",
   "execution_count": 33,
   "id": "elementary-framing",
   "metadata": {},
   "outputs": [],
   "source": [
    "## We create new features by splitting the location into county and state. This enable for individual mappings\n",
    "\n",
    "A =data.location.unique()\n",
    "#print(A)\n",
    "new= data.location.str.split(\", \",n=1, expand=True)\n",
    "data['county'] = new[0]\n",
    "data['state'] = new[1]\n",
    "#data.drop(columns =[\"location\"], inplace = True) \n",
    "#print(data.head())"
   ]
  },
  {
   "cell_type": "code",
   "execution_count": 34,
   "id": "approved-silver",
   "metadata": {},
   "outputs": [],
   "source": [
    "## We can also obtain the horoscope signs'.  \n",
    "\n",
    "#print(data.sign.unique())\n",
    "new_2= data.sign.str.split(\" \",n=1, expand=True) # sign split by space \n",
    "\n",
    "data['star_sign'] = new_2[0]\n"
   ]
  },
  {
   "cell_type": "code",
   "execution_count": 35,
   "id": "loose-enlargement",
   "metadata": {},
   "outputs": [],
   "source": [
    "#print(data.star_sign.head(20))\n",
    "\n",
    "# mapping of state\n",
    "column_mapper(i='state')\n",
    "\n",
    "column_mapper(i='county')\n",
    "# mapping of star_sign\n",
    "column_mapper(i='star_sign')"
   ]
  },
  {
   "cell_type": "code",
   "execution_count": 36,
   "id": "efficient-calibration",
   "metadata": {},
   "outputs": [
    {
     "name": "stdout",
     "output_type": "stream",
     "text": [
      "                  Missing Values  % of Total Values\n",
      "religion          17885           32.5             \n",
      "pets              17409           31.6             \n",
      "essay8            14460           26.2             \n",
      "drugs             13262           24.1             \n",
      "drugs_mapped      13262           24.1             \n",
      "sign              9548            17.3             \n",
      "star_sign_mapped  9548            17.3             \n",
      "star_sign         9548            17.3             \n",
      "essay6            8993            16.3             \n",
      "essay9            8099            14.7             \n",
      "essay7            7750            14.1             \n",
      "job_mapped        6893            12.5             \n",
      "job               6893            12.5             \n",
      "essay3            6812            12.4             \n",
      "essay5            6267            11.4             \n",
      "essay4            5883            10.7             \n",
      "education         5406            9.8              \n",
      "essay2            4974            9.0              \n",
      "ethnicity         4877            8.8              \n",
      "body_type         4770            8.7              \n",
      "smoke_mapped      4719            8.6              \n",
      "essay1            3205            5.8              \n",
      "essay0            2586            4.7              \n",
      "drinks            2386            4.3              \n",
      "drinks_mapped     2386            4.3              \n",
      "speaks            38              0.1              \n",
      "sum_lang_spoken   38              0.1              \n",
      "height            2               0.0              \n",
      "\n",
      "['religion', 'pets']\n"
     ]
    }
   ],
   "source": [
    "missing_df = missing_values_table(data);\n",
    "missing_columns = list(missing_df[missing_df['% of Total Values']> 30].index)\n",
    "print(missing_df)\n",
    "print()\n",
    "print(missing_columns)\n",
    "data = data.drop(columns=missing_columns)\n",
    "\n",
    "\n",
    "data  = data.drop(columns= essay_cols)\n"
   ]
  },
  {
   "cell_type": "code",
   "execution_count": 37,
   "id": "miniature-coast",
   "metadata": {},
   "outputs": [
    {
     "name": "stdout",
     "output_type": "stream",
     "text": [
      "                  Missing Values  % of Total Values\n",
      "drugs             13262           24.1             \n",
      "drugs_mapped      13262           24.1             \n",
      "sign              9548            17.3             \n",
      "star_sign         9548            17.3             \n",
      "star_sign_mapped  9548            17.3             \n",
      "job               6893            12.5             \n",
      "job_mapped        6893            12.5             \n",
      "education         5406            9.8              \n",
      "ethnicity         4877            8.8              \n",
      "body_type         4770            8.7              \n",
      "smoke_mapped      4719            8.6              \n",
      "drinks            2386            4.3              \n",
      "drinks_mapped     2386            4.3              \n",
      "speaks            38              0.1              \n",
      "sum_lang_spoken   38              0.1              \n",
      "height            2               0.0              \n"
     ]
    }
   ],
   "source": [
    "print(missing_values_table(data))"
   ]
  },
  {
   "cell_type": "code",
   "execution_count": 38,
   "id": "other-maryland",
   "metadata": {},
   "outputs": [],
   "source": [
    "## Handling missing values in our columns\n",
    "\n",
    "\n",
    "#default languages spoken set as 1\n",
    "data['sum_lang_spoken'] = data['sum_lang_spoken'].fillna(1)\n",
    "\n",
    "## Set default smoking drugs and drinks as 0.\n",
    "data['smoke_mapped'] = data['smoke_mapped'].fillna(0)\n",
    "data['drugs_mapped'] = data['drugs_mapped'].fillna(0)\n",
    "data['drinks_mapped'] = data['drinks_mapped'].fillna(0)"
   ]
  },
  {
   "cell_type": "code",
   "execution_count": 39,
   "id": "continental-prophet",
   "metadata": {},
   "outputs": [],
   "source": [
    "## Modify to default \n",
    "data['drugs_mod'] = data.drugs.fillna('never')\n",
    "data['smokes_mod'] = data.smokes.fillna('no')\n",
    "data['drinks_mod'] = data.drinks.fillna('not at all')"
   ]
  },
  {
   "cell_type": "code",
   "execution_count": 40,
   "id": "earned-integral",
   "metadata": {},
   "outputs": [
    {
     "name": "stdout",
     "output_type": "stream",
     "text": [
      "                  Missing Values  % of Total Values\n",
      "drugs             13262           24.1             \n",
      "sign              9548            17.3             \n",
      "star_sign         9548            17.3             \n",
      "star_sign_mapped  9548            17.3             \n",
      "job               6893            12.5             \n",
      "job_mapped        6893            12.5             \n",
      "education         5406            9.8              \n",
      "ethnicity         4877            8.8              \n",
      "body_type         4770            8.7              \n",
      "drinks            2386            4.3              \n",
      "speaks            38              0.1              \n"
     ]
    }
   ],
   "source": [
    "## Set the height by mean of each sex  \n",
    "data['height'] = round(data.groupby('sex')['height'].apply(lambda x: x.fillna(x.mean())),1)\n",
    "\n",
    "\n",
    "print(missing_values_table(data))"
   ]
  },
  {
   "cell_type": "code",
   "execution_count": 41,
   "id": "julian-purple",
   "metadata": {},
   "outputs": [
    {
     "name": "stdout",
     "output_type": "stream",
     "text": [
      "0    0\n",
      "1    1\n",
      "2    2\n",
      "3    3\n",
      "4    2\n",
      "Name: county_mapped, dtype: int64\n"
     ]
    }
   ],
   "source": [
    "print(data.county_mapped.head())"
   ]
  },
  {
   "cell_type": "code",
   "execution_count": null,
   "id": "british-isolation",
   "metadata": {},
   "outputs": [],
   "source": []
  },
  {
   "cell_type": "markdown",
   "id": "balanced-myrtle",
   "metadata": {},
   "source": [
    "### Features \n",
    "We will now select the features we would like to use to build future ML models "
   ]
  },
  {
   "cell_type": "code",
   "execution_count": 42,
   "id": "raising-catalyst",
   "metadata": {},
   "outputs": [],
   "source": [
    "feature_data = data[['age', 'height', 'income','drugs_mapped',\n",
    "       'status_mapped', 'smoke_mapped', 'orientation_mapped', \n",
    "        'drinks_mapped', 'sex_mapped', \n",
    "        'essay_unique_words',\n",
    "       'sum_lang_spoken', 'essay_len','mod_mean_essay_len','essay_unique_words',\n",
    "        'state_mapped','star_sign','star_sign_mapped']]"
   ]
  },
  {
   "cell_type": "code",
   "execution_count": 43,
   "id": "muslim-deadline",
   "metadata": {},
   "outputs": [
    {
     "data": {
      "image/png": "[encoded data removed]",
      "text/plain": [
       "<Figure size 432x288 with 1 Axes>"
      ]
     },
     "metadata": {},
     "output_type": "display_data"
    }
   ],
   "source": [
    "\n",
    "sns.heatmap(data.head(200).isnull(), cbar =False)\n",
    "plt.show()\n"
   ]
  },
  {
   "cell_type": "code",
   "execution_count": 44,
   "id": "protective-terrorism",
   "metadata": {},
   "outputs": [],
   "source": [
    "# print(missing_values_table(feature_data))\n",
    "\n",
    "# print(feature_data.isnull().sum())\n",
    "\n",
    "# print(feature_data.shape)\n",
    "\n",
    "# print(feature_data.dtypes)\n",
    "# print(feature_data.info())\n",
    "\n",
    "\n",
    "# print(feature_data.nunique())\n",
    "\n",
    "# print(data.info())\n",
    "# print()\n",
    "\n",
    "\n",
    "\n"
   ]
  },
  {
   "cell_type": "code",
   "execution_count": 45,
   "id": "necessary-selling",
   "metadata": {},
   "outputs": [
    {
     "name": "stdout",
     "output_type": "stream",
     "text": [
      "(55109, 17)\n",
      "                  Missing Values  % of Total Values\n",
      "star_sign         9548            17.3             \n",
      "star_sign_mapped  9548            17.3             \n",
      "\n"
     ]
    }
   ],
   "source": [
    "print(feature_data.shape)\n",
    "print(missing_values_table(feature_data))\n",
    "print()"
   ]
  },
  {
   "cell_type": "code",
   "execution_count": 46,
   "id": "adaptive-developer",
   "metadata": {},
   "outputs": [
    {
     "name": "stdout",
     "output_type": "stream",
     "text": [
      "   age  height  income  drugs_mapped  status_mapped  smoke_mapped  \\\n",
      "0  22   75.0   -1       0.0           0              2.0            \n",
      "1  35   70.0    80000   1.0           0              0.0            \n",
      "2  38   68.0   -1       0.0           1              0.0            \n",
      "3  23   71.0    20000   0.0           0              0.0            \n",
      "4  29   66.0   -1       0.0           0              0.0            \n",
      "\n",
      "   orientation_mapped  drinks_mapped  sex_mapped  essay_unique_words  \\\n",
      "0  0                   2.0            0           268                  \n",
      "1  0                   3.0            0           170                  \n",
      "2  0                   2.0            0           565                  \n",
      "3  0                   2.0            0           62                   \n",
      "4  0                   2.0            0           89                   \n",
      "\n",
      "   sum_lang_spoken  essay_len  mod_mean_essay_len  essay_unique_words  \\\n",
      "0  1.0              2476       247.600000          268                  \n",
      "1  3.0              1391       231.833333          170                  \n",
      "2  3.0              5378       597.555556          565                  \n",
      "3  2.0              451        64.428571           62                   \n",
      "4  1.0              663        132.600000          89                   \n",
      "\n",
      "   state_mapped star_sign  star_sign_mapped  \n",
      "0  0             gemini    0.0               \n",
      "1  0             cancer    1.0               \n",
      "2  0             pisces    2.0               \n",
      "3  0             pisces    2.0               \n",
      "4  0             aquarius  3.0               \n"
     ]
    }
   ],
   "source": [
    "print(feature_data.head())\n"
   ]
  },
  {
   "cell_type": "code",
   "execution_count": 47,
   "id": "alive-subsection",
   "metadata": {},
   "outputs": [
    {
     "name": "stdout",
     "output_type": "stream",
     "text": [
      "[ 0  1  2  3  4  5  6  7  8  9 10 11 12 13 14 15 16 17 18 19 20 21 22 23\n",
      " 24 25 26 27 28 29 30 31 32 33 34 35 36 37 38]\n"
     ]
    }
   ],
   "source": [
    "print(feature_data.state_mapped.unique())"
   ]
  },
  {
   "cell_type": "code",
   "execution_count": null,
   "id": "stone-details",
   "metadata": {},
   "outputs": [],
   "source": []
  },
  {
   "cell_type": "code",
   "execution_count": null,
   "id": "persistent-shape",
   "metadata": {},
   "outputs": [],
   "source": []
  },
  {
   "cell_type": "code",
   "execution_count": null,
   "id": "middle-technology",
   "metadata": {},
   "outputs": [],
   "source": []
  },
  {
   "cell_type": "markdown",
   "id": "tight-median",
   "metadata": {},
   "source": [
    "#### Saving our cleaned Dataset\n"
   ]
  },
  {
   "cell_type": "code",
   "execution_count": 48,
   "id": "major-popularity",
   "metadata": {
    "scrolled": true
   },
   "outputs": [
    {
     "name": "stdout",
     "output_type": "stream",
     "text": [
      "Index(['age', 'body_type', 'drinks', 'drugs', 'education', 'ethnicity',\n",
      "       'height', 'income', 'job', 'last_online', 'location', 'orientation',\n",
      "       'sex', 'sign', 'smokes', 'speaks', 'status', 'drugs_mapped',\n",
      "       'smoke_mapped', 'drinks_mapped', 'sex_mapped', 'status_mapped',\n",
      "       'orientation_mapped', 'job_mapped', 'combined_essays', 'no_miss',\n",
      "       'tot_col', 'combined_essays_mod', 'essay_unique_words',\n",
      "       'sum_lang_spoken', 'essay_len', 'mean_essay_len', 'mod_mean_essay_len',\n",
      "       'county', 'state', 'star_sign', 'state_mapped', 'county_mapped',\n",
      "       'star_sign_mapped', 'drugs_mod', 'smokes_mod', 'drinks_mod'],\n",
      "      dtype='object')\n"
     ]
    }
   ],
   "source": [
    "print(data.columns)\n",
    "\n",
    "# feature_data.to_csv('Clean_data_1.csv')"
   ]
  },
  {
   "cell_type": "code",
   "execution_count": null,
   "id": "capital-operation",
   "metadata": {},
   "outputs": [],
   "source": []
  },
  {
   "cell_type": "markdown",
   "id": "united-conversion",
   "metadata": {},
   "source": [
    "Machine Learing Questions to answer\n",
    "\n",
    "1) Predicting education Level of an individual and Age based on the number of Unique workd used and the average Length of words.\n",
    "\n",
    "Reason for this question is We know That Literacy level of individuals improves as they grow Up.\n",
    "What will be interesting heare is that Ability  levels of individuals varies across the country. Also useful variables coul be `Job` type as 'creative' career profession  may use more descriptive words vs 'white collar jobs' such as an analysis of finance may use more specific longer words.\n",
    "\n",
    "We will explore these relattionships further and see wherther our ML models are able to pick up on these distictive patterns.\n",
    "\n"
   ]
  },
  {
   "cell_type": "markdown",
   "id": "systematic-handy",
   "metadata": {},
   "source": [
    "#### Normalising our Data\n",
    " \n"
   ]
  },
  {
   "cell_type": "code",
   "execution_count": null,
   "id": "official-replica",
   "metadata": {},
   "outputs": [],
   "source": []
  }
 ],
 "metadata": {
  "kernelspec": {
   "display_name": "Python 3",
   "language": "python",
   "name": "python3"
  },
  "language_info": {
   "codemirror_mode": {
    "name": "ipython",
    "version": 3
   },
   "file_extension": ".py",
   "mimetype": "text/x-python",
   "name": "python",
   "nbconvert_exporter": "python",
   "pygments_lexer": "ipython3",
   "version": "3.6.12"
  }
 },
 "nbformat": 4,
 "nbformat_minor": 5
}
